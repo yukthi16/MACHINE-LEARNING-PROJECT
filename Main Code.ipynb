{
  "nbformat": 4,
  "nbformat_minor": 0,
  "metadata": {
    "colab": {
      "name": "Copy of webpage.ipynb",
      "provenance": [],
      "collapsed_sections": []
    },
    "kernelspec": {
      "display_name": "Python 3",
      "name": "python3"
    },
    "language_info": {
      "name": "python"
    }
  },
  "cells": [
    {
      "cell_type": "code",
      "metadata": {
        "colab": {
          "base_uri": "https://localhost:8080/"
        },
        "id": "5aN8_5jW-Iz3",
        "outputId": "603aeac6-a8e0-450c-ad91-254ee0a81903"
      },
      "source": [
        "from google.colab import drive\n",
        "drive.mount('/content/drive')"
      ],
      "execution_count": null,
      "outputs": [
        {
          "output_type": "stream",
          "text": [
            "Mounted at /content/drive\n"
          ],
          "name": "stdout"
        }
      ]
    },
    {
      "cell_type": "code",
      "metadata": {
        "colab": {
          "base_uri": "https://localhost:8080/"
        },
        "id": "IYApwCFK-gDH",
        "outputId": "fd10caf8-5dab-4d07-a476-cd67166574dc"
      },
      "source": [
        "!pip install flask_ngrok"
      ],
      "execution_count": null,
      "outputs": [
        {
          "output_type": "stream",
          "text": [
            "Collecting flask_ngrok\n",
            "  Downloading https://files.pythonhosted.org/packages/af/6c/f54cb686ad1129e27d125d182f90f52b32f284e6c8df58c1bae54fa1adbc/flask_ngrok-0.0.25-py3-none-any.whl\n",
            "Requirement already satisfied: requests in /usr/local/lib/python3.7/dist-packages (from flask_ngrok) (2.23.0)\n",
            "Requirement already satisfied: Flask>=0.8 in /usr/local/lib/python3.7/dist-packages (from flask_ngrok) (1.1.4)\n",
            "Requirement already satisfied: chardet<4,>=3.0.2 in /usr/local/lib/python3.7/dist-packages (from requests->flask_ngrok) (3.0.4)\n",
            "Requirement already satisfied: certifi>=2017.4.17 in /usr/local/lib/python3.7/dist-packages (from requests->flask_ngrok) (2021.5.30)\n",
            "Requirement already satisfied: urllib3!=1.25.0,!=1.25.1,<1.26,>=1.21.1 in /usr/local/lib/python3.7/dist-packages (from requests->flask_ngrok) (1.24.3)\n",
            "Requirement already satisfied: idna<3,>=2.5 in /usr/local/lib/python3.7/dist-packages (from requests->flask_ngrok) (2.10)\n",
            "Requirement already satisfied: Werkzeug<2.0,>=0.15 in /usr/local/lib/python3.7/dist-packages (from Flask>=0.8->flask_ngrok) (1.0.1)\n",
            "Requirement already satisfied: click<8.0,>=5.1 in /usr/local/lib/python3.7/dist-packages (from Flask>=0.8->flask_ngrok) (7.1.2)\n",
            "Requirement already satisfied: itsdangerous<2.0,>=0.24 in /usr/local/lib/python3.7/dist-packages (from Flask>=0.8->flask_ngrok) (1.1.0)\n",
            "Requirement already satisfied: Jinja2<3.0,>=2.10.1 in /usr/local/lib/python3.7/dist-packages (from Flask>=0.8->flask_ngrok) (2.11.3)\n",
            "Requirement already satisfied: MarkupSafe>=0.23 in /usr/local/lib/python3.7/dist-packages (from Jinja2<3.0,>=2.10.1->Flask>=0.8->flask_ngrok) (2.0.1)\n",
            "Installing collected packages: flask-ngrok\n",
            "Successfully installed flask-ngrok-0.0.25\n"
          ],
          "name": "stdout"
        }
      ]
    },
    {
      "cell_type": "code",
      "metadata": {
        "colab": {
          "base_uri": "https://localhost:8080/"
        },
        "id": "2BqajLgLGLxI",
        "outputId": "8601a170-d916-40bc-b59e-dc2acb674809"
      },
      "source": [
        "!pip install surprise"
      ],
      "execution_count": null,
      "outputs": [
        {
          "output_type": "stream",
          "text": [
            "Collecting surprise\n",
            "  Downloading https://files.pythonhosted.org/packages/61/de/e5cba8682201fcf9c3719a6fdda95693468ed061945493dea2dd37c5618b/surprise-0.1-py2.py3-none-any.whl\n",
            "Collecting scikit-surprise\n",
            "\u001b[?25l  Downloading https://files.pythonhosted.org/packages/97/37/5d334adaf5ddd65da99fc65f6507e0e4599d092ba048f4302fe8775619e8/scikit-surprise-1.1.1.tar.gz (11.8MB)\n",
            "\u001b[K     |████████████████████████████████| 11.8MB 204kB/s \n",
            "\u001b[?25hRequirement already satisfied: joblib>=0.11 in /usr/local/lib/python3.7/dist-packages (from scikit-surprise->surprise) (1.0.1)\n",
            "Requirement already satisfied: numpy>=1.11.2 in /usr/local/lib/python3.7/dist-packages (from scikit-surprise->surprise) (1.19.5)\n",
            "Requirement already satisfied: scipy>=1.0.0 in /usr/local/lib/python3.7/dist-packages (from scikit-surprise->surprise) (1.4.1)\n",
            "Requirement already satisfied: six>=1.10.0 in /usr/local/lib/python3.7/dist-packages (from scikit-surprise->surprise) (1.15.0)\n",
            "Building wheels for collected packages: scikit-surprise\n",
            "  Building wheel for scikit-surprise (setup.py) ... \u001b[?25l\u001b[?25hdone\n",
            "  Created wheel for scikit-surprise: filename=scikit_surprise-1.1.1-cp37-cp37m-linux_x86_64.whl size=1617664 sha256=a8389bf30cabd0814f4f6b8faaf5ea5ee4ad6eadaebbc2b87c05ede790a981a6\n",
            "  Stored in directory: /root/.cache/pip/wheels/78/9c/3d/41b419c9d2aff5b6e2b4c0fc8d25c538202834058f9ed110d0\n",
            "Successfully built scikit-surprise\n",
            "Installing collected packages: scikit-surprise, surprise\n",
            "Successfully installed scikit-surprise-1.1.1 surprise-0.1\n"
          ],
          "name": "stdout"
        }
      ]
    },
    {
      "cell_type": "code",
      "metadata": {
        "id": "7ccpWQYd55YK"
      },
      "source": [
        "import os\n",
        "if not os.path.exists('templates'):\n",
        "  os.mkdir('templates')"
      ],
      "execution_count": null,
      "outputs": []
    },
    {
      "cell_type": "code",
      "metadata": {
        "id": "KzH1Y2xIHyYi"
      },
      "source": [
        "main='''\n",
        "<html>\n",
        "<head>\n",
        "\n",
        "</head>\n",
        "\n",
        "<body>\n",
        "\t<br><br>\n",
        "\t<h1><center>Efficient Recommender System for Over The Top Media Services</center></h1>\n",
        "\t<center>\n",
        "\t<form  method=\"POST\" action=\"{{ url_for('dataset') }}\" name=\"passdata\">\n",
        "\t\t<br><br><br><br>\n",
        "\t\t<h2> Please Select One OTT Platform</h2>\n",
        "\t\t<br><br>\n",
        "\t<input type=\"radio\" id=\"netflix\" name=\"ott\" value=\"netflix\" required>\n",
        "<label for=\"netflix\"> <img \n",
        "    src=\"https://www.nxtbookmedia.com/wp-content/uploads/2014/06/netflix.png\" \n",
        "    alt=\"Netflix\" width=\"250\" height=\"150\"/></label>\n",
        "<input type=\"radio\" id=\"hotstar\" name=\"ott\" value=\"hotstar\">\n",
        "<label for=\"hotstar\"><img \n",
        "    src=\"https://akm-img-a-in.tosshub.com/sites/btmt/images/stories/disneyhotstar_505_110320034428.jpg?size=1200:675\" \n",
        "    alt=\"Hotstar\" width=\"250\" height=\"150\" /></label>\n",
        "<input type=\"radio\" id=\"prime\" name=\"ott\" value=\"prime\">\n",
        "<label for=\"prime\"><img \n",
        "    src=\"https://reviewed-com-res.cloudinary.com/image/fetch/s--OCGmezmg--/b_white,c_limit,cs_srgb,f_auto,fl_progressive.strip_profile,g_center,q_auto,w_972/https://reviewed-production.s3.amazonaws.com/1590656678455/Amazon_Prime_Video_tips_1.jpg\" \n",
        "    alt=\"Prime\" width=\"250\" height=\"150\" /></label><br><br><br>\n",
        "<input type=\"submit\" value=\"submit\" name=\"submit\" style=\"width:100; height:30\">\n",
        "\n",
        "</form>\n",
        "</center>\n",
        "\t</body>\n",
        "</html>\n",
        "'''\n",
        "\n",
        "file=open(\"templates/main.html\",\"w\")\n",
        "file.write(main)\n",
        "file.close()\n"
      ],
      "execution_count": null,
      "outputs": []
    },
    {
      "cell_type": "code",
      "metadata": {
        "id": "OmXB9XrZIEvC"
      },
      "source": [
        "netflix='''\n",
        "<html>\n",
        "<body style=\"background-color: #bc70a4;\">\n",
        "\t<center>\n",
        "\t\t<br><br><br>\n",
        "\t\n",
        "\t\n",
        "\t<table style=\"background-color:white;height: 500;width: 900\">\n",
        "\t\t<tr><td>\n",
        "\t\t\t<center>\n",
        "\t<form method=\"POST\" action=\"{{ url_for('netflix') }}\" name=\"netflixform\">\n",
        "\t\t<h1>Welcome to Netflix Recommendations</h1>\n",
        "\t\t<br><br><br>\n",
        "\t\t<h3>Enter a UserId or a Movie Name to get the Recommendations</h3>\n",
        "\t\t<br><br>\n",
        "\t\t<input type=\"radio\" name=\"netflix\" id=\"userid\" value=\"userid\" style=\"border-color: black\" required>\n",
        "\t\t<label for=\"userid\"><input type=\"text\" placeholder=\"Enter user id\" name=\"userid\" style=\"width: 250;height: 35;border-color: black\"></label>\n",
        "\t\t<br><br>\n",
        "\t\t<input type=\"radio\" name=\"netflix\" id=\"moviename\" value=\"moviename\" style=\"border-color: black\">\n",
        "\t\t<label for=\"moviename\"><input type=\"text\" placeholder=\"Enter Movie Name\" name=\"movie\" style=\"width: 250;height: 35;border-color: black\"></label>\n",
        "\t\t<br><br>\n",
        "\t\t<input type=\"submit\" value=\"submit\" name=\"submit\" style=\"width:100; height:30;border-color: black\">\n",
        "\n",
        "\t</form>\n",
        "</center></td>\n",
        "</tr>\n",
        "</table>\n",
        "</center>\n",
        "\t</body>\n",
        "</html>\n",
        "'''\n",
        "file=open(\"templates/netflix.html\",\"w\")\n",
        "file.write(netflix)\n",
        "file.close()"
      ],
      "execution_count": null,
      "outputs": []
    },
    {
      "cell_type": "code",
      "metadata": {
        "id": "jgUpURH5IVHs"
      },
      "source": [
        "hotstar='''\n",
        "<html>\n",
        "<body style=\"background-color: #bc70a4;\">\n",
        "\t<center>\n",
        "\t\t<br><br><br>\n",
        "\t\n",
        "\t\n",
        "\t<table style=\"background-color:white;height: 500;width: 800\">\n",
        "\t\t<tr><td>\n",
        "\t\t\t<center>\n",
        "\t<form method=\"POST\" action=\"{{ url_for('hotstar') }}\" name=\"hotstarform\">\n",
        "\t\t<h1>Welcome to Hotstar Recommendations</h1>\n",
        "\t\t<br><br><br>\n",
        "\t\t<h3>Enter a UserId to get the Recommendations</h3>\n",
        "\t\t<br><br>\n",
        "\t\t\n",
        "\t\t<input type=\"text\" placeholder=\"Enter user id\" name=\"hotstar\" id=\"userid\" style=\"width: 250;height: 35;border-color: black\" required>\n",
        "\t\t\n",
        "\t\t<br><br>\n",
        "\t\t<input type=\"submit\" value=\"submit\" name=\"submit\" style=\"width:100; height:30;border-color: black\">\n",
        "\n",
        "\t</form>\n",
        "</center></td>\n",
        "</tr>\n",
        "</table>\n",
        "</center>\n",
        "\t</body>\n",
        "</html>\n",
        "'''\n",
        "file=open(\"templates/hotstar.html\",\"w\")\n",
        "file.write(hotstar)\n",
        "file.close()"
      ],
      "execution_count": null,
      "outputs": []
    },
    {
      "cell_type": "code",
      "metadata": {
        "id": "AouiEMBeIiSN"
      },
      "source": [
        "prime='''\n",
        "<html>\n",
        "<body style=\"background-color: #bc70a4;\">\n",
        "\t<center>\n",
        "\t\t<br><br><br>\n",
        "\t\n",
        "\t\n",
        "\t<table style=\"background-color:white;height: 500;width: 900\">\n",
        "\t\t<tr><td>\n",
        "\t\t\t<center>\n",
        "\t<form method=\"POST\" action=\"{{ url_for('prime') }}\" name=\"primeform\">\n",
        "\t\t<h1>Welcome to Amazon Prime Recommendations</h1>\n",
        "\t\t<br><br><br>\n",
        "\t\t<h3>Enter the Language and year to get the Recommendations</h3>\n",
        "\t\t<br><br>\n",
        "\t\t\n",
        "\t\t<input type=\"text\" placeholder=\"Enter the Language\" name=\"lang\" id=\"lang\" style=\"width: 250;height: 35;border-color: black\" required>\n",
        "\t\t<br><br>\n",
        "\t\t\n",
        "\t\t<input type=\"text\" placeholder=\"Enter the Year\" name=\"year\" id=\"year\" style=\"width: 250;height: 35;border-color: black\" required>\n",
        "\t\t<br><br>\n",
        "\t\t<input type=\"submit\" value=\"submit\" name=\"submit\" style=\"width:100; height:30;border-color: black\">\n",
        "\n",
        "\t</form>\n",
        "</center></td>\n",
        "</tr>\n",
        "</table>\n",
        "</center>\n",
        "\t</body>\n",
        "</html>\n",
        "'''\n",
        "\n",
        "file=open(\"templates/prime.html\",\"w\")\n",
        "file.write(prime)\n",
        "file.close()"
      ],
      "execution_count": null,
      "outputs": []
    },
    {
      "cell_type": "code",
      "metadata": {
        "id": "uW3MyvTDcS_q"
      },
      "source": [
        "notfound='''\n",
        "<html>\n",
        "<h1>The username or the movie is not available in the system.</h1>\n",
        "</html>'''\n",
        "file=open(\"templates/notfound.html\",\"w\")\n",
        "file.write(notfound)\n",
        "file.close()"
      ],
      "execution_count": null,
      "outputs": []
    },
    {
      "cell_type": "code",
      "metadata": {
        "id": "0B0H3crizuQz"
      },
      "source": [
        "notfound1='''\n",
        "<html>\n",
        "<h1>This language movies are not available the system.</h1>\n",
        "</html>'''\n",
        "file=open(\"templates/notfound1.html\",\"w\")\n",
        "file.write(notfound1)\n",
        "file.close()"
      ],
      "execution_count": null,
      "outputs": []
    },
    {
      "cell_type": "code",
      "metadata": {
        "id": "FbrJbywVCSPE"
      },
      "source": [
        "view='''\n",
        "<html>\n",
        "<body>\n",
        "<center> <h1 style=\"margin-top:50px\">Movies you may like!!</h1></center>\n",
        "<table border=\"1\" align=\"center\" style=\"margin-top:50px;border-collapse:collapse;border:3px solid black\">\n",
        "{% for ele in your_list %}\n",
        "<tr>\n",
        "{% for x in ele %}\n",
        "  <td style=\"height:50px\">{{x}}\n",
        "  {% endfor %}\n",
        "  </td>\n",
        "{% endfor %}\n",
        "</tr>\n",
        "</table>\n",
        "</body>\n",
        "</html>'''\n",
        "file=open(\"templates/view.html\",\"w\")\n",
        "file.write(view)\n",
        "file.close()"
      ],
      "execution_count": null,
      "outputs": []
    },
    {
      "cell_type": "code",
      "metadata": {
        "id": "xm_qiRVSu76q"
      },
      "source": [
        "\n",
        "import pandas as pd\n",
        "import numpy as np\n",
        "import math\n",
        "import re\n",
        "from scipy.sparse import csr_matrix\n",
        "import matplotlib.pyplot as plt\n",
        "import seaborn as sns\n",
        "from surprise import Reader, Dataset, SVD\n",
        "from surprise.model_selection import cross_validate\n",
        "sns.set_style(\"darkgrid\")\n",
        "from flask_ngrok import run_with_ngrok\n",
        "from flask import Flask,render_template,request,redirect,url_for\n",
        "root='drive/My Drive/projectdata/'"
      ],
      "execution_count": null,
      "outputs": []
    },
    {
      "cell_type": "code",
      "metadata": {
        "id": "H18lAnP_xqgO"
      },
      "source": [
        "df1 = pd.read_csv('drive/My Drive/netflixdataset/combined_data_1.txt', header = None, names = ['Cust_Id', 'Rating'], usecols = [0,1])\n",
        "df1['Rating'] = df1['Rating'].astype(float)\n",
        "\n",
        "df = df1.iloc[:5000000,:]\n",
        "df.index = np.arange(0,len(df))\n",
        "\n",
        "df_nan = pd.DataFrame(pd.isnull(df.Rating))\n",
        "df_nan = df_nan[df_nan['Rating'] == True]\n",
        "df_nan = df_nan.reset_index()\n",
        "\n",
        "movie_np = []\n",
        "movie_id = 1\n",
        "\n",
        "for i,j in zip(df_nan['index'][1:],df_nan['index'][:-1]):\n",
        "    # numpy approach\n",
        "    temp = np.full((1,i-j-1), movie_id)\n",
        "    movie_np = np.append(movie_np, temp)\n",
        "    movie_id += 1\n",
        "\n",
        "# Account for last record and corresponding length\n",
        "# numpy approach\n",
        "last_record = np.full((1,len(df) - df_nan.iloc[-1, 0] - 1),movie_id)\n",
        "movie_np = np.append(movie_np, last_record)\n",
        "\n",
        "df = df[pd.notnull(df['Rating'])]\n",
        "df['Movie_Id'] = movie_np.astype(int)\n",
        "df['Cust_Id'] = df['Cust_Id'].astype(int)\n",
        "\n",
        "\"\"\"f = ['count','mean']\n",
        "\n",
        "df_movie_summary = df.groupby('Movie_Id')['Rating'].agg(f)\n",
        "df_movie_summary.index = df_movie_summary.index.map(int)\n",
        "movie_benchmark = round(df_movie_summary['count'].quantile(0.7),0)\n",
        "drop_movie_list = df_movie_summary[df_movie_summary['count'] < movie_benchmark].index\n",
        "df_cust_summary = df.groupby('Cust_Id')['Rating'].agg(f)\n",
        "df_cust_summary.index = df_cust_summary.index.map(int)\n",
        "cust_benchmark = round(df_cust_summary['count'].quantile(0.7),0)\n",
        "drop_cust_list = df_cust_summary[df_cust_summary['count'] < cust_benchmark].index\n",
        "\n",
        "df = df[~df['Movie_Id'].isin(drop_movie_list)]\n",
        "df = df[~df['Cust_Id'].isin(drop_cust_list)]\"\"\"\n",
        "\n",
        "df_p = pd.pivot_table(df,values='Rating',index='Cust_Id',columns='Movie_Id')\n",
        "\n",
        "df_title = pd.read_csv('drive/My Drive/netflixdataset/movie_titles.csv', encoding = \"ISO-8859-1\", header = None, names = ['Movie_Id', 'Year', 'Name'])\n",
        "df_title.set_index('Movie_Id', inplace = True)"
      ],
      "execution_count": null,
      "outputs": []
    },
    {
      "cell_type": "code",
      "metadata": {
        "colab": {
          "base_uri": "https://localhost:8080/"
        },
        "id": "lwcNBs3CvGLQ",
        "outputId": "5d74d6b7-57d8-474d-c232-0b20fb3b3d64"
      },
      "source": [
        "hotstar_df=pd.read_csv(root+'hotstardata.csv',header=None,names=['Cust_Id','movie_title','duration'],usecols=[1,2,3])\n",
        "hotstar_df=hotstar_df[1:]\n",
        "\n",
        "hotstar_titles=pd.read_csv(root+'hotstar_titles.csv',header=None, names=['movie_id','title','genre','language'],usecols=[0,1,2,3])\n",
        "hostar_titles=hotstar_titles[1:]\n",
        "\n",
        "hotstar_movie_summary=pd.read_csv(root+'hotstar_movie_summary.csv',header=None,names=['movie_id','count','mean'],usecols=[0,1,2])\n",
        "hotstar_movie_summary=hotstar_movie_summary[1:]"
      ],
      "execution_count": null,
      "outputs": [
        {
          "output_type": "stream",
          "text": [
            "/usr/local/lib/python3.7/dist-packages/IPython/core/interactiveshell.py:2718: DtypeWarning: Columns (1,3) have mixed types.Specify dtype option on import or set low_memory=False.\n",
            "  interactivity=interactivity, compiler=compiler, result=result)\n"
          ],
          "name": "stderr"
        }
      ]
    },
    {
      "cell_type": "code",
      "metadata": {
        "colab": {
          "base_uri": "https://localhost:8080/"
        },
        "id": "oVHuCrakYSNN",
        "outputId": "2fc61559-417a-448a-ce5f-3ab026d17390"
      },
      "source": [
        "reader = Reader()\n",
        "\n",
        "# get just top 100K rows for faster run time\n",
        "data = Dataset.load_from_df(df[['Cust_Id', 'Movie_Id', 'Rating']][:2000000], reader)\n",
        "#data.split(n_folds=3)\n",
        "\n",
        "netflix_svd = SVD()\n",
        "cross_validate(netflix_svd, data, measures=['RMSE', 'MAE'])\n",
        "data = Dataset.load_from_df(df[['Cust_Id', 'Movie_Id', 'Rating']], reader)\n",
        "trainset = data.build_full_trainset()\n",
        "netflix_svd.fit(trainset)\n",
        "\n"
      ],
      "execution_count": null,
      "outputs": [
        {
          "output_type": "execute_result",
          "data": {
            "text/plain": [
              "<surprise.prediction_algorithms.matrix_factorization.SVD at 0x7f3aefc428d0>"
            ]
          },
          "metadata": {
            "tags": []
          },
          "execution_count": 23
        }
      ]
    },
    {
      "cell_type": "code",
      "metadata": {
        "id": "B5Vx_yloYNLJ"
      },
      "source": [
        "reader1=Reader()\n",
        "# get just top 100K rows for faster run time\n",
        "data1 = Dataset.load_from_df(hotstar_df[['Cust_Id', 'movie_title', 'duration']][:], reader1)\n",
        "#data.split(n_folds=3)\n",
        "\n",
        "hotstar_svd = SVD()\n",
        "cross_validate(hotstar_svd, data1, measures=['RMSE', 'MAE'])\n",
        "data1 = Dataset.load_from_df(hotstar_df[['Cust_Id', 'movie_title', 'duration']], reader)\n",
        "\n",
        "trainset1 = data1.build_full_trainset()\n",
        "hotstar_svd.fit(trainset1)"
      ],
      "execution_count": null,
      "outputs": []
    },
    {
      "cell_type": "code",
      "metadata": {
        "colab": {
          "base_uri": "https://localhost:8080/"
        },
        "id": "OL7ftaggA5Fu",
        "outputId": "0a9028f3-4af6-4152-baff-bdfe7285d634"
      },
      "source": [
        "app=Flask(__name__)\n",
        "run_with_ngrok(app)\n",
        "\n",
        "@app.route('/')\n",
        "def home():\n",
        "  return render_template(\"main.html\")\n",
        "\n",
        "@app.route('/dataset',methods=['POST','GET'])\n",
        "def dataset():\n",
        "  name=request.form['ott']  \n",
        "  \n",
        "  if name=='netflix':\n",
        "    return render_template(\"netflix.html\")\n",
        "  elif name=='hotstar':\n",
        "    return render_template(\"hotstar.html\")\n",
        "  elif name=='prime':\n",
        "    return render_template(\"prime.html\")\n",
        "\n",
        "@app.route('/hotstar',methods=['POST','GET'])\n",
        "def hotstar():\n",
        "  if request.method=='POST':\n",
        "    n=request.form[\"hotstar\"]\n",
        "    return redirect(url_for('hotstarsuccess',userid=n))\n",
        "@app.route('/netflix',methods=['POST','GET'])\n",
        "def netflix():\n",
        "  if request.method=='POST':\n",
        "    n=request.form[\"netflix\"]\n",
        "    if n==\"userid\":\n",
        "      u=request.form.get(\"userid\")\n",
        "      return redirect(url_for('netflixsuccesscf',userid=u))\n",
        "    elif n==\"moviename\":\n",
        "      m=request.form.get(\"movie\")\n",
        "      return redirect(url_for('netflixsuccesspc',movie_title=m))\n",
        "\n",
        "@app.route('/prime',methods=['POST','GET'])\n",
        "def prime():\n",
        "  if request.method=='POST':\n",
        "    l=request.form.get(\"lang\")\n",
        "    y=request.form.get(\"year\")\n",
        "    return redirect(url_for('primesuccess',lang=l,year=y))\n",
        "\n",
        "@app.route('/netflixsuccesspc/<movie_title>')\n",
        "def netflixsuccesspc(movie_title):\n",
        "  global df_title,df_p,df_movie_summary\n",
        "  #if movie_title in netflix_df_title['Name']:\n",
        "  try:\n",
        "    i = int(df_title.index[df_title['Name'] == movie_title][0])\n",
        "    target = df_p[i]\n",
        "    similar_to_target = df_p.corrwith(target)\n",
        "    corr_target = pd.DataFrame(similar_to_target, columns = ['PearsonR'])\n",
        "    corr_target.dropna(inplace = True)\n",
        "    corr_target = corr_target.sort_values('PearsonR', ascending = False)\n",
        "    corr_target.index = corr_target.index.map(int)\n",
        "    corr_target = corr_target.join(df_title).join(df_movie_summary)[['PearsonR', 'Name', 'count', 'mean']]\n",
        "    corr_target=corr_target[corr_target['count']>0][:10].to_numpy()\n",
        "    l=[['PearsonR','Name','Count','Mean']]\n",
        "    for i in range(10):\n",
        "      l.append(corr_target[i])\n",
        "    return render_template('view.html',your_list=l)\n",
        "  except:\n",
        "    return render_template('notfound.html')\n",
        "\n",
        "\n",
        "@app.route('/netflixsuccesscf/<userid>')\n",
        "def netflixsuccesscf(userid):\n",
        "  global netflix_svd,df_title,drop_movie_list\n",
        "  if int(userid) in df['Cust_Id']:\n",
        "    \"\"\"\n",
        "    netflix_user = df_title.copy()\n",
        "    netflix_user = netflix_user.reset_index()\n",
        "    netflix_user = netflix_user[~netflix_user['Movie_Id'].isin(drop_movie_list)]\n",
        "    netflix_user['Estimate_Score'] = netflix_user['Movie_Id'].apply(lambda x: netflix_svd.predict(userid, x).est)\n",
        "    netflix_user = netflix_user.drop('Movie_Id', axis = 1)\n",
        "    netflix_user = netflix_user.sort_values('Estimate_Score', ascending=False)\n",
        "    netflix_user=netflix_user[:10].to_numpy()\n",
        "    \"\"\"\n",
        "    user = df_title.copy()\n",
        "    user = user.reset_index()\n",
        "    user1=user[1:]\n",
        "    user1['Estimate_Score'] = user1['Movie_Id'].apply(lambda x: netflix_svd.predict(userid, x).est)\n",
        "    user1 = user1.drop('Movie_Id', axis = 1)\n",
        "    user1 = user1.sort_values('Estimate_Score', ascending=False)\n",
        "    user2=user1.head(10).to_numpy()\n",
        "    l=[['Year of Release','Name','Score']]\n",
        "    for i in range(10):\n",
        "      l.append(user2[i])\n",
        "    return render_template('view.html',your_list=l)\n",
        "  else:\n",
        "    return render_template(\"notfound.html\")\n",
        "\n",
        "@app.route('/hotstarsuccess/<userid>')\n",
        "def hotstarsuccess(userid):\n",
        "  global hotstar_svd\n",
        "  #if userid in hotstar_df['Cust_Id']:    \n",
        "  try:\n",
        "    hotstar_user=pd.read_csv('drive/My Drive/projectdata/hotstar_user.csv',header=None,names=['title','genre','language'],usecols=[2,3,4])\n",
        "    hotstar_user=hotstar_user[1:]\n",
        "    hotstar_user['Estimate_Score'] = hotstar_user['title'].apply(lambda x: hotstar_svd.predict(userid, x).est)\n",
        "    hotstar_user = hotstar_user.sort_values('Estimate_Score', ascending=False)\n",
        "    hotstar_user = hotstar_user[:10].to_numpy()\n",
        "    l=[['Name','Genre','Language','Score']]\n",
        "    for i in range(10):\n",
        "      l.append(hotstar_user[i])\n",
        "    return render_template('view.html',your_list=l)\n",
        "  except:\n",
        "    return render_template('notfound.html')\n",
        "\n",
        "@app.route('/primesuccess/<lang>/<year>')\n",
        "def primesuccess(lang,year):\n",
        "  root='drive/My Drive/projectdata/'\n",
        "  df2= pd.read_csv(root+'primedata.csv', header = None, names = ['movie_name', 'Language','Rating','Year of Release'])\n",
        "  #if lang in df2['Language']:\n",
        "  try:\n",
        "    df3=df2[(df2['Language']==lang) & (df2['Year of Release']>=year)]\n",
        "    df4=df3.sort_values(by=['Rating','Year of Release'],ascending=False)\n",
        "    result = (df4.head(10)).to_numpy()\n",
        "    l=[['Movie Name','Language','Rating','Year of Release']]\n",
        "    for i in range(10):\n",
        "      l.append(result[i])\n",
        "    return render_template('view.html',your_list=l)\n",
        "  except:\n",
        "    return render_template(\"notfound1.html\")\n",
        "\n",
        "\n",
        "app.run()"
      ],
      "execution_count": null,
      "outputs": [
        {
          "output_type": "stream",
          "text": [
            " * Serving Flask app \"__main__\" (lazy loading)\n",
            " * Environment: production\n",
            "\u001b[31m   WARNING: This is a development server. Do not use it in a production deployment.\u001b[0m\n",
            "\u001b[2m   Use a production WSGI server instead.\u001b[0m\n",
            " * Debug mode: off\n"
          ],
          "name": "stdout"
        },
        {
          "output_type": "stream",
          "text": [
            " * Running on http://127.0.0.1:5000/ (Press CTRL+C to quit)\n"
          ],
          "name": "stderr"
        },
        {
          "output_type": "stream",
          "text": [
            " * Running on http://b0f1ef976744.ngrok.io\n",
            " * Traffic stats available on http://127.0.0.1:4040\n"
          ],
          "name": "stdout"
        },
        {
          "output_type": "stream",
          "text": [
            "127.0.0.1 - - [06/Jul/2021 05:49:41] \"\u001b[37mGET / HTTP/1.1\u001b[0m\" 200 -\n",
            "127.0.0.1 - - [06/Jul/2021 05:49:42] \"\u001b[33mGET /favicon.ico HTTP/1.1\u001b[0m\" 404 -\n",
            "127.0.0.1 - - [06/Jul/2021 05:49:45] \"\u001b[37mPOST /dataset HTTP/1.1\u001b[0m\" 200 -\n",
            "127.0.0.1 - - [06/Jul/2021 05:49:56] \"\u001b[32mPOST /netflix HTTP/1.1\u001b[0m\" 302 -\n",
            "127.0.0.1 - - [06/Jul/2021 05:49:56] \"\u001b[37mGET /netflixsuccesscf/1133214 HTTP/1.1\u001b[0m\" 200 -\n"
          ],
          "name": "stderr"
        }
      ]
    },
    {
      "cell_type": "code",
      "metadata": {
        "id": "inoykKQ2Pv8N"
      },
      "source": [
        ""
      ],
      "execution_count": null,
      "outputs": []
    }
  ]
}